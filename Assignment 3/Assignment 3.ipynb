{
 "cells": [
  {
   "cell_type": "code",
   "execution_count": 1,
   "id": "c5307058",
   "metadata": {},
   "outputs": [],
   "source": [
    "# import sys\n",
    "# !{sys.executable} -m pip install spacy"
   ]
  },
  {
   "cell_type": "markdown",
   "id": "8332e71c",
   "metadata": {},
   "source": [
    "## Reading text file"
   ]
  },
  {
   "cell_type": "code",
   "execution_count": 3,
   "id": "f0b4d3bb",
   "metadata": {},
   "outputs": [],
   "source": [
    "import pandas as pd\n",
    "import numpy as np"
   ]
  },
  {
   "cell_type": "code",
   "execution_count": 4,
   "id": "31c4da1f",
   "metadata": {},
   "outputs": [
    {
     "data": {
      "text/html": [
       "<div>\n",
       "<style scoped>\n",
       "    .dataframe tbody tr th:only-of-type {\n",
       "        vertical-align: middle;\n",
       "    }\n",
       "\n",
       "    .dataframe tbody tr th {\n",
       "        vertical-align: top;\n",
       "    }\n",
       "\n",
       "    .dataframe thead th {\n",
       "        text-align: right;\n",
       "    }\n",
       "</style>\n",
       "<table border=\"1\" class=\"dataframe\">\n",
       "  <thead>\n",
       "    <tr style=\"text-align: right;\">\n",
       "      <th></th>\n",
       "      <th>label</th>\n",
       "      <th>text</th>\n",
       "    </tr>\n",
       "  </thead>\n",
       "  <tbody>\n",
       "    <tr>\n",
       "      <th>0</th>\n",
       "      <td>B-Rating</td>\n",
       "      <td>2</td>\n",
       "    </tr>\n",
       "    <tr>\n",
       "      <th>1</th>\n",
       "      <td>I-Rating</td>\n",
       "      <td>start</td>\n",
       "    </tr>\n",
       "    <tr>\n",
       "      <th>2</th>\n",
       "      <td>O</td>\n",
       "      <td>restaurants</td>\n",
       "    </tr>\n",
       "    <tr>\n",
       "      <th>3</th>\n",
       "      <td>O</td>\n",
       "      <td>with</td>\n",
       "    </tr>\n",
       "    <tr>\n",
       "      <th>4</th>\n",
       "      <td>B-Amenity</td>\n",
       "      <td>inside</td>\n",
       "    </tr>\n",
       "    <tr>\n",
       "      <th>5</th>\n",
       "      <td>I-Amenity</td>\n",
       "      <td>dining</td>\n",
       "    </tr>\n",
       "    <tr>\n",
       "      <th>6</th>\n",
       "      <td>NaN</td>\n",
       "      <td>NaN</td>\n",
       "    </tr>\n",
       "    <tr>\n",
       "      <th>7</th>\n",
       "      <td>O</td>\n",
       "      <td>34</td>\n",
       "    </tr>\n",
       "    <tr>\n",
       "      <th>8</th>\n",
       "      <td>NaN</td>\n",
       "      <td>NaN</td>\n",
       "    </tr>\n",
       "    <tr>\n",
       "      <th>9</th>\n",
       "      <td>B-Rating</td>\n",
       "      <td>5</td>\n",
       "    </tr>\n",
       "    <tr>\n",
       "      <th>10</th>\n",
       "      <td>I-Rating</td>\n",
       "      <td>star</td>\n",
       "    </tr>\n",
       "    <tr>\n",
       "      <th>11</th>\n",
       "      <td>O</td>\n",
       "      <td>resturants</td>\n",
       "    </tr>\n",
       "    <tr>\n",
       "      <th>12</th>\n",
       "      <td>B-Location</td>\n",
       "      <td>in</td>\n",
       "    </tr>\n",
       "    <tr>\n",
       "      <th>13</th>\n",
       "      <td>I-Location</td>\n",
       "      <td>my</td>\n",
       "    </tr>\n",
       "    <tr>\n",
       "      <th>14</th>\n",
       "      <td>I-Location</td>\n",
       "      <td>town</td>\n",
       "    </tr>\n",
       "    <tr>\n",
       "      <th>15</th>\n",
       "      <td>NaN</td>\n",
       "      <td>NaN</td>\n",
       "    </tr>\n",
       "    <tr>\n",
       "      <th>16</th>\n",
       "      <td>O</td>\n",
       "      <td>98</td>\n",
       "    </tr>\n",
       "    <tr>\n",
       "      <th>17</th>\n",
       "      <td>B-Restaurant_Name</td>\n",
       "      <td>hong</td>\n",
       "    </tr>\n",
       "    <tr>\n",
       "      <th>18</th>\n",
       "      <td>I-Restaurant_Name</td>\n",
       "      <td>kong</td>\n",
       "    </tr>\n",
       "    <tr>\n",
       "      <th>19</th>\n",
       "      <td>O</td>\n",
       "      <td>restaurant</td>\n",
       "    </tr>\n",
       "  </tbody>\n",
       "</table>\n",
       "</div>"
      ],
      "text/plain": [
       "                label         text\n",
       "0            B-Rating            2\n",
       "1            I-Rating        start\n",
       "2                   O  restaurants\n",
       "3                   O         with\n",
       "4           B-Amenity       inside\n",
       "5           I-Amenity       dining\n",
       "6                 NaN          NaN\n",
       "7                   O           34\n",
       "8                 NaN          NaN\n",
       "9            B-Rating            5\n",
       "10           I-Rating         star\n",
       "11                  O   resturants\n",
       "12         B-Location           in\n",
       "13         I-Location           my\n",
       "14         I-Location         town\n",
       "15                NaN          NaN\n",
       "16                  O           98\n",
       "17  B-Restaurant_Name         hong\n",
       "18  I-Restaurant_Name         kong\n",
       "19                  O   restaurant"
      ]
     },
     "execution_count": 4,
     "metadata": {},
     "output_type": "execute_result"
    }
   ],
   "source": [
    "filename = './restauranttrain.bio.txt'\n",
    "df = pd.read_table(filename, sep='\\t', header=None, names=['label','text'], skip_blank_lines=False)\n",
    "df.head(20)"
   ]
  },
  {
   "cell_type": "markdown",
   "id": "546d2dd8",
   "metadata": {},
   "source": [
    "## Preprocessing Data"
   ]
  },
  {
   "cell_type": "code",
   "execution_count": 5,
   "id": "65032fd2",
   "metadata": {},
   "outputs": [
    {
     "data": {
      "text/plain": [
       "[('2 start restaurants with inside dining',\n",
       "  {'entities': [(0, 7, 'Rating'), (25, 38, 'Amenity')]}),\n",
       " ('34', {'entities': []}),\n",
       " ('5 star resturants in my town',\n",
       "  {'entities': [(0, 6, 'Rating'), (18, 28, 'Location')]}),\n",
       " ('98 hong kong restaurant reasonable prices',\n",
       "  {'entities': [(3, 12, 'Restaurant_Name'), (24, 34, 'Price')]}),\n",
       " ('a great lunch spot but open till 2 a m passims kitchen',\n",
       "  {'entities': [(23, 38, 'Hours'), (39, 54, 'Restaurant_Name')]}),\n",
       " ('a place that serves soft serve ice cream',\n",
       "  {'entities': [(20, 40, 'Dish')]}),\n",
       " ('a restaurant that is good for groups',\n",
       "  {'entities': [(21, 25, 'Rating'), (26, 36, 'Amenity')]}),\n",
       " ('a salad would make my day', {'entities': [(2, 7, 'Dish')]}),\n",
       " ('a smoothie would hit the spot', {'entities': [(2, 10, 'Cuisine')]}),\n",
       " ('a steak would be nice', {'entities': [(2, 7, 'Dish')]})]"
      ]
     },
     "execution_count": 5,
     "metadata": {},
     "output_type": "execute_result"
    }
   ],
   "source": [
    "train = []\n",
    "sent_tokens = []\n",
    "entities = []\n",
    "start_position = 0\n",
    "position = 0\n",
    "entity = None\n",
    "for index, (label, text) in df.iterrows():\n",
    "#     print(label, text)\n",
    "    if type(label)!= str and type(text)!= str:\n",
    "#         print('break!')\n",
    "#         print(sent_tokens)\n",
    "        if entity:\n",
    "            entities.append((start_position, position-1, entity))\n",
    "            entity = None\n",
    "        train.append((' '.join(sent_tokens),{\"entities\":entities}))\n",
    "        sent_tokens = []\n",
    "        entities = []\n",
    "        position = 0\n",
    "        entity = None\n",
    "        continue\n",
    "    sent_tokens.append(text)\n",
    "    if label[0] == 'O' and entity is not None:\n",
    "        entities.append((start_position, position-1, entity))  \n",
    "        entity = None\n",
    "    elif label[0] == 'B':\n",
    "        if entity:\n",
    "            entities.append((start_position, position-1, entity))  \n",
    "            entity = None\n",
    "        entity = label.replace('B-','')\n",
    "        start_position = position\n",
    "    position += len(text) + 1\n",
    "train[:10]\n",
    "    "
   ]
  },
  {
   "cell_type": "markdown",
   "id": "b8427ccd",
   "metadata": {},
   "source": [
    "## Model Training"
   ]
  },
  {
   "cell_type": "code",
   "execution_count": 6,
   "id": "d6327c24",
   "metadata": {},
   "outputs": [],
   "source": [
    "import spacy\n",
    "# spacy.cli.download(\"en_core_web_sm\")"
   ]
  },
  {
   "cell_type": "code",
   "execution_count": 7,
   "id": "9f0a9cdc",
   "metadata": {},
   "outputs": [],
   "source": [
    "from spacy.tokens import DocBin"
   ]
  },
  {
   "cell_type": "code",
   "execution_count": 8,
   "id": "df08554c",
   "metadata": {},
   "outputs": [],
   "source": [
    "db = DocBin() # create a DocBin object"
   ]
  },
  {
   "cell_type": "code",
   "execution_count": 11,
   "id": "0fb8271a",
   "metadata": {},
   "outputs": [
    {
     "name": "stdout",
     "output_type": "stream",
     "text": [
      "2 start restaurants with inside dining (2 start, inside dining)\n",
      "34 ()\n",
      "5 star resturants in my town (5 star, in my town)\n",
      "98 hong kong restaurant reasonable prices (hong kong, reasonable)\n",
      "a great lunch spot but open till 2 a m passims kitchen (open till 2 a m, passims kitchen)\n",
      "a place that serves soft serve ice cream (soft serve ice cream,)\n",
      "a restaurant that is good for groups (good, for groups)\n",
      "a salad would make my day (salad,)\n",
      "a smoothie would hit the spot (smoothie,)\n",
      "a steak would be nice (steak,)\n"
     ]
    }
   ],
   "source": [
    "nlp = spacy.load(\"en_core_web_sm\")\n",
    "i = 0\n",
    "for text, annot in train: # data in previous format\n",
    "    doc = nlp.make_doc(text) # create doc object from text\n",
    "#     print(doc)\n",
    "    ents = []\n",
    "    for start, end, label in annot[\"entities\"]: # add character indexes\n",
    "        span = doc.char_span(start, end, label=label, alignment_mode=\"contract\")\n",
    "#         print(span)\n",
    "        if span is None:\n",
    "            print(\"Skipping entity\")\n",
    "            pass\n",
    "        else:\n",
    "            ents.append(span)\n",
    "    doc.ents = ents # label the text with the ents\n",
    "    if i < 10:\n",
    "        print(doc, doc.ents)\n",
    "    db.add(doc)\n",
    "    i += 1"
   ]
  },
  {
   "cell_type": "code",
   "execution_count": 8,
   "id": "f03befe5",
   "metadata": {},
   "outputs": [],
   "source": [
    "db.to_disk(\"./train.spacy\")"
   ]
  },
  {
   "cell_type": "code",
   "execution_count": 11,
   "id": "499139e2",
   "metadata": {},
   "outputs": [
    {
     "name": "stdout",
     "output_type": "stream",
     "text": [
      "[+] Auto-filled config with all values\n",
      "[+] Saved config\n",
      "config.cfg\n",
      "You can now add your data and train your pipeline:\n",
      "python -m spacy train config.cfg --paths.train ./train.spacy --paths.dev ./dev.spacy\n"
     ]
    }
   ],
   "source": [
    "!python -m spacy init fill-config base_config.cfg config.cfg"
   ]
  },
  {
   "cell_type": "code",
   "execution_count": 12,
   "id": "1c298842",
   "metadata": {},
   "outputs": [
    {
     "name": "stdout",
     "output_type": "stream",
     "text": [
      "^C\n"
     ]
    }
   ],
   "source": [
    "!python -m spacy train config.cfg --output ./output --paths.train ./train.spacy --paths.dev ./train.spacy"
   ]
  },
  {
   "cell_type": "code",
   "execution_count": 13,
   "id": "4600cbdf",
   "metadata": {},
   "outputs": [],
   "source": [
    "ner = spacy.load(r\"./output/model-last\") #load the final model"
   ]
  },
  {
   "cell_type": "code",
   "execution_count": 30,
   "id": "02cc5f70",
   "metadata": {},
   "outputs": [
    {
     "data": {
      "text/plain": [
       "{'5 star': 'Rating',\n",
       " 'fish and chips': 'Cuisine',\n",
       " 'fine dining': 'Amenity',\n",
       " 'near to my house.': 'Location'}"
      ]
     },
     "execution_count": 30,
     "metadata": {},
     "output_type": "execute_result"
    }
   ],
   "source": [
    "doc = ner(\"This is an excellent 5 star fish and chips restaurant for fine dining and it is near to my house.\")\n",
    "entities = {}\n",
    "for ent in doc.ents:\n",
    "    entities[ent.text] = ent.label_\n",
    "entities"
   ]
  },
  {
   "cell_type": "markdown",
   "id": "bf0ffe91",
   "metadata": {},
   "source": [
    "## Usage"
   ]
  },
  {
   "cell_type": "code",
   "execution_count": 32,
   "id": "ad48e699",
   "metadata": {},
   "outputs": [
    {
     "name": "stdout",
     "output_type": "stream",
     "text": [
      "{   '5 star': 'Rating',\n",
      "    'fine dining': 'Amenity',\n",
      "    'fish and chips': 'Cuisine',\n",
      "    'near to my house': 'Location'}\n"
     ]
    }
   ],
   "source": [
    "!python ner_predict.py \"This is an excellent 5 star fish and chips restaurant for fine dining and it is near to my house.\""
   ]
  },
  {
   "cell_type": "code",
   "execution_count": null,
   "id": "6757f392",
   "metadata": {},
   "outputs": [],
   "source": []
  }
 ],
 "metadata": {
  "kernelspec": {
   "display_name": "Python 3 (ipykernel)",
   "language": "python",
   "name": "python3"
  },
  "language_info": {
   "codemirror_mode": {
    "name": "ipython",
    "version": 3
   },
   "file_extension": ".py",
   "mimetype": "text/x-python",
   "name": "python",
   "nbconvert_exporter": "python",
   "pygments_lexer": "ipython3",
   "version": "3.9.6"
  }
 },
 "nbformat": 4,
 "nbformat_minor": 5
}
